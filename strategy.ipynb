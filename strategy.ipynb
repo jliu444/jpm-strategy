{
  "cells": [
    {
      "cell_type": "markdown",
      "id": "8bb1ba61",
      "metadata": {
        "id": "8bb1ba61"
      },
      "source": [
        "# Import"
      ]
    },
    {
      "cell_type": "code",
      "execution_count": null,
      "id": "900eedc8",
      "metadata": {
        "id": "900eedc8"
      },
      "outputs": [],
      "source": [
        "import yfinance as yf\n",
        "import pandas as pd\n",
        "import numpy as np\n",
        "import matplotlib.pyplot as plt\n",
        "import seaborn as sns\n",
        "import torch"
      ]
    },
    {
      "cell_type": "markdown",
      "id": "a2ff10c1",
      "metadata": {
        "id": "a2ff10c1"
      },
      "source": [
        "# Load Stock Data"
      ]
    },
    {
      "cell_type": "code",
      "execution_count": null,
      "id": "11f02ff3",
      "metadata": {
        "colab": {
          "base_uri": "https://localhost:8080/",
          "height": 697
        },
        "id": "11f02ff3",
        "outputId": "f50b2b49-88bf-43a4-b648-719d9ae0b8cd"
      },
      "outputs": [],
      "source": [
        "symbols = ['JPM', 'BAC', 'WFC', 'C']\n",
        "\n",
        "ohlc = yf.download(symbols, start='2023-01-01', end='2025-01-01', group_by='tickers', auto_adjust=True)\n",
        "ohlc"
      ]
    },
    {
      "cell_type": "markdown",
      "id": "ede2cce1",
      "metadata": {
        "id": "ede2cce1"
      },
      "source": [
        "Format Data"
      ]
    },
    {
      "cell_type": "code",
      "execution_count": null,
      "id": "16d3a866",
      "metadata": {
        "colab": {
          "base_uri": "https://localhost:8080/",
          "height": 344
        },
        "id": "16d3a866",
        "outputId": "3143f007-bb43-41b3-bcb8-166f1ae60a9f"
      },
      "outputs": [],
      "source": [
        "all_data = pd.concat(\n",
        "    [ohlc[ticker].loc[:, ['Open', 'High', 'Low', 'Close', 'Volume']] for ticker in symbols],\n",
        "    axis=1\n",
        ")\n",
        "\n",
        "all_data = all_data.set_axis([f'{ticker}_{val}' for ticker in symbols for val in ['Open', 'High', 'Low', 'Close', 'Volume']], axis=1)\n",
        "next_day = all_data.shift(-1)\n",
        "\n",
        "all_data.head()"
      ]
    },
    {
      "cell_type": "markdown",
      "id": "8bbda912",
      "metadata": {
        "id": "8bbda912"
      },
      "source": [
        "# Feature Engineering"
      ]
    },
    {
      "cell_type": "code",
      "execution_count": null,
      "id": "afa584d9",
      "metadata": {
        "colab": {
          "base_uri": "https://localhost:8080/",
          "height": 617
        },
        "id": "afa584d9",
        "outputId": "d7b4ebe8-00f4-4aa6-a23f-a38865bd215f"
      },
      "outputs": [],
      "source": [
        "from ta.momentum import RSIIndicator\n",
        "from ta.volume import VolumeWeightedAveragePrice\n",
        "from ta.trend import MACD\n",
        "\n",
        "all_data['rsi_14'] = RSIIndicator(all_data['JPM_Close'], window=14).rsi()\n",
        "\n",
        "all_data['vwap'] = VolumeWeightedAveragePrice(\n",
        "    all_data['JPM_High'],\n",
        "    all_data['JPM_Low'],\n",
        "    all_data['JPM_Close'],\n",
        "    all_data['JPM_Volume'],\n",
        "    window=14\n",
        ").volume_weighted_average_price()\n",
        "\n",
        "all_data['macd'] = MACD(all_data['JPM_Close'], window_slow=26, window_fast=12).macd_diff()\n",
        "\n",
        "# signal represent if stock will be up (1) or down (0) the next day\n",
        "all_data['JPM_signal'] = pd.Series(np.full(len(all_data), 0), index=all_data.index)\n",
        "signal = next_day['JPM_Close'] > all_data['JPM_Close']\n",
        "all_data.loc[signal, 'JPM_signal'] = 1\n",
        "\n",
        "all_data.dropna(inplace=True)\n",
        "\n",
        "jpm_signals = all_data['JPM_signal']\n",
        "all_data.drop('JPM_signal', axis=1, inplace=True)\n",
        "\n",
        "all_data.head(10)"
      ]
    },
    {
      "cell_type": "markdown",
      "id": "d3a17623",
      "metadata": {
        "id": "d3a17623"
      },
      "source": [
        "# Split Training and Walk Forward Data"
      ]
    },
    {
      "cell_type": "code",
      "execution_count": null,
      "id": "6916765b",
      "metadata": {
        "colab": {
          "base_uri": "https://localhost:8080/",
          "height": 373
        },
        "id": "6916765b",
        "outputId": "85e102de-1fb6-45b8-ed8b-d3f6f2f07f4e"
      },
      "outputs": [],
      "source": [
        "train_data = all_data[all_data.index < '2024-01-01'].copy()\n",
        "wf_jpm_signals = jpm_signals[jpm_signals.index >= '2024-01-01']\n",
        "train_jpm_signals = jpm_signals.drop(jpm_signals[jpm_signals.index >= '2024-01-01'].index)\n",
        "wf_data = all_data[all_data.index >= '2024-01-01'].copy()\n",
        "train_data.tail()"
      ]
    },
    {
      "cell_type": "markdown",
      "id": "987b0818",
      "metadata": {
        "id": "987b0818"
      },
      "source": [
        "# Model"
      ]
    },
    {
      "cell_type": "markdown",
      "id": "646012fc",
      "metadata": {
        "id": "646012fc"
      },
      "source": [
        "## XGBoost"
      ]
    },
    {
      "cell_type": "code",
      "execution_count": null,
      "id": "7d00549e",
      "metadata": {
        "colab": {
          "base_uri": "https://localhost:8080/"
        },
        "id": "7d00549e",
        "outputId": "cc8e46f7-143b-4e44-c4e0-406426bcb6f5"
      },
      "outputs": [],
      "source": [
        "from xgboost import XGBClassifier\n",
        "from sklearn.model_selection import TimeSeriesSplit, RandomizedSearchCV\n",
        "\n",
        "template_model = XGBClassifier()\n",
        "tscv = TimeSeriesSplit(n_splits=5)\n",
        "\n",
        "param_grid = {\n",
        "    'n_estimators': [100, 200, 300, 400, 500],\n",
        "    'max_depth': [3, 5, 7, 9],\n",
        "    'learning_rate': [0.01, 0.05, 0.1, 0.2],\n",
        "    'subsample': [0.6, 0.7, 0.8, 0.9, 1.0],\n",
        "    'colsample_bytree': [0.6, 0.7, 0.8, 0.9, 1.0],\n",
        "    'gamma': [0, 0.1, 0.2, 0.3, 0.4],\n",
        "    'min_child_weight': [1, 2, 3, 4]\n",
        "}\n",
        "\n",
        "random_search = RandomizedSearchCV(\n",
        "    estimator=template_model,\n",
        "    param_distributions=param_grid,\n",
        "    n_iter=5,\n",
        "    scoring='accuracy',\n",
        "    cv=tscv,\n",
        "    verbose=2,\n",
        "    random_state=42,\n",
        "    n_jobs=-1\n",
        ")\n",
        "\n",
        "# tune hyperparameters\n",
        "random_search.fit(train_data, train_jpm_signals)\n",
        "\n",
        "print(f\"Best Model: {random_search.best_estimator_}\")\n",
        "print(f\"Best Accuracy: {random_search.best_score_}\")"
      ]
    },
    {
      "cell_type": "markdown",
      "id": "600dac07",
      "metadata": {
        "id": "600dac07"
      },
      "source": [
        "## GRU"
      ]
    },
    {
      "cell_type": "code",
      "execution_count": null,
      "id": "f3eb84a7",
      "metadata": {
        "colab": {
          "base_uri": "https://localhost:8080/"
        },
        "id": "f3eb84a7",
        "outputId": "f25f6c28-69b9-43a0-f5c4-887bfc904604"
      },
      "outputs": [],
      "source": [
        "import torch.nn as nn\n",
        "import torch.optim as optim\n",
        "\n",
        "class GRUBinaryClassifier(nn.Module):\n",
        "    def __init__(self, input_size, hidden_size, num_layers=1):\n",
        "        super(GRUBinaryClassifier, self).__init__()\n",
        "        self.gru = nn.GRU(input_size, hidden_size, num_layers, batch_first=True)\n",
        "        self.fc = nn.Linear(hidden_size, 1)\n",
        "\n",
        "    def forward(self, x):\n",
        "        out, _ = self.gru(x)\n",
        "        out = self.fc(out)\n",
        "        return out # logits\n",
        "\n",
        "train_data_tensor = torch.tensor(train_data.to_numpy(), dtype=torch.float32).unsqueeze(0)\n",
        "wf_data_tensor = torch.tensor(wf_data.to_numpy(), dtype=torch.float32).unsqueeze(0)\n",
        "train_jpm_signals_tensor = torch.tensor(train_jpm_signals.to_numpy(), dtype=torch.float32).unsqueeze(0).unsqueeze(2)\n",
        "wf_jpm_signals_tensor = torch.tensor(wf_jpm_signals.to_numpy(), dtype=torch.float32).unsqueeze(0).unsqueeze(2)\n",
        "\n",
        "hidden_size = 32\n",
        "input_size = len(train_data.columns)\n",
        "\n",
        "model_gru = GRUBinaryClassifier(input_size, hidden_size, 3)\n",
        "pos_weight = torch.tensor([train_jpm_signals_tensor.numel() / train_jpm_signals_tensor.sum() - 1])\n",
        "criterion = nn.BCEWithLogitsLoss(pos_weight=pos_weight)\n",
        "optimizer = optim.Adam(model_gru.parameters(), lr=0.002)\n",
        "\n",
        "epochs = 50\n",
        "for epoch in range(epochs):\n",
        "    model_gru.train()\n",
        "\n",
        "    logits = model_gru(train_data_tensor)\n",
        "    loss = criterion(logits, train_jpm_signals_tensor)\n",
        "\n",
        "    loss.backward()\n",
        "    optimizer.step()\n",
        "    model_gru.zero_grad()\n",
        "\n",
        "    model_gru.eval()\n",
        "    with torch.no_grad():\n",
        "        test_logits = model_gru(wf_data_tensor)\n",
        "        test_probs = torch.sigmoid(test_logits)\n",
        "        test_preds = (test_probs > 0.5).float()\n",
        "        acc = (test_preds == wf_jpm_signals_tensor).float().mean().item()\n",
        "\n",
        "    print(f\"Epoch {epoch+1}/{epochs}, Loss: {loss.item():.4f}, Test Acc: {acc:.4f}\")\n"
      ]
    },
    {
      "cell_type": "markdown",
      "id": "7289c176",
      "metadata": {
        "id": "7289c176"
      },
      "source": [
        "# In-sample Trading Performance Test"
      ]
    },
    {
      "cell_type": "code",
      "execution_count": null,
      "id": "301f46a3",
      "metadata": {
        "colab": {
          "base_uri": "https://localhost:8080/"
        },
        "id": "301f46a3",
        "outputId": "25cbd56b-ce51-4080-f8d3-36532bbeeefd"
      },
      "outputs": [],
      "source": [
        "model_xgb = random_search.best_estimator_\n",
        "print(jpm_signals)\n",
        "\n",
        "def backtest_xgb(model, data):\n",
        "    log_rets = np.log(data['JPM_Close']).diff().shift(-1)\n",
        "    log_rets.fillna(0, inplace=True)\n",
        "    signal = model.predict(data)\n",
        "    signal[signal == 0] = -1\n",
        "    sig_rets = log_rets * signal\n",
        "    sig_pf = sig_rets[sig_rets > 0].sum() / sig_rets[sig_rets < 0].abs().sum()\n",
        "    return sig_pf\n",
        "\n",
        "def backtest_gru(model, data):\n",
        "    model.eval()\n",
        "    log_rets = np.log(data['JPM_Close']).diff().shift(-1)\n",
        "    log_rets.fillna(0, inplace=True)\n",
        "    data_tensor = torch.tensor(data.to_numpy(), dtype=torch.float32).unsqueeze(0)\n",
        "    probs = torch.sigmoid(model(data_tensor)).squeeze().detach().numpy()\n",
        "    decisions = probs > 0.5\n",
        "    signal = [1 if decision else -1 for decision in decisions]\n",
        "    print(signal)\n",
        "    sig_rets = log_rets * signal\n",
        "    sig_pf = sig_rets[sig_rets > 0].sum() / sig_rets[sig_rets < 0].abs().sum()\n",
        "    return sig_pf\n",
        "\n",
        "print(f\"In-sample Profit Factor (XGBoost): {backtest_xgb(model=model_xgb, data=train_data)}\")\n",
        "print(f\"In-sample Profit Factor (GRU): {backtest_gru(model=model_gru, data=train_data)}\")\n"
      ]
    },
    {
      "cell_type": "markdown",
      "id": "1b5dc601",
      "metadata": {
        "id": "1b5dc601"
      },
      "source": [
        "# Walk Forward Performance Test"
      ]
    },
    {
      "cell_type": "markdown",
      "id": "7a3ceca9",
      "metadata": {
        "id": "7a3ceca9"
      },
      "source": [
        "Test on 2024-Present Data"
      ]
    },
    {
      "cell_type": "code",
      "execution_count": null,
      "id": "8efd1b7d",
      "metadata": {
        "colab": {
          "base_uri": "https://localhost:8080/"
        },
        "id": "8efd1b7d",
        "outputId": "270997f1-0dfd-4301-db39-ddff6974bc76"
      },
      "outputs": [],
      "source": [
        "print(f\"In-sample Profit Factor (XGBoost): {backtest_xgb(model=model_xgb, data=wf_data)}\")\n",
        "print(f\"In-sample Profit Factor (GRU): {backtest_gru(model=model_gru, data=wf_data)}\")"
      ]
    }
  ],
  "metadata": {
    "colab": {
      "provenance": []
    },
    "kernelspec": {
      "display_name": "Python 3",
      "language": "python",
      "name": "python3"
    },
    "language_info": {
      "codemirror_mode": {
        "name": "ipython",
        "version": 3
      },
      "file_extension": ".py",
      "mimetype": "text/x-python",
      "name": "python",
      "nbconvert_exporter": "python",
      "pygments_lexer": "ipython3",
      "version": "3.12.7"
    }
  },
  "nbformat": 4,
  "nbformat_minor": 5
}
